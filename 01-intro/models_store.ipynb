{
 "cells": [
  {
   "cell_type": "code",
   "execution_count": 2,
   "id": "9a6535db",
   "metadata": {},
   "outputs": [
    {
     "data": {
      "text/plain": [
       "True"
      ]
     },
     "execution_count": 2,
     "metadata": {},
     "output_type": "execute_result"
    }
   ],
   "source": [
    "from dotenv import load_dotenv\n",
    "import requests\n",
    "import os\n",
    "load_dotenv()\n",
    "\n",
    "#GEMINI_API_KEY, OPENAI_API_KEY FROM .env"
   ]
  },
  {
   "cell_type": "code",
   "execution_count": 6,
   "id": "03a16df1",
   "metadata": {},
   "outputs": [],
   "source": [
    "prompt = \"cuanto han sido mis ventas del mes de enero del 2023\""
   ]
  },
  {
   "cell_type": "markdown",
   "id": "2ae444f1",
   "metadata": {},
   "source": [
    "# Gemini"
   ]
  },
  {
   "cell_type": "code",
   "execution_count": 7,
   "id": "d7b3b674",
   "metadata": {},
   "outputs": [
    {
     "name": "stdout",
     "output_type": "stream",
     "text": [
      "Para poder darte la información precisa sobre tus ventas de enero de 2023, necesito que me proporciones acceso a tus datos de ventas. Esto podría ser a través de:\n",
      "\n",
      "*   **Un documento de texto o hoja de cálculo:** Si tienes un archivo con tus registros de ventas, puedes compartirlo conmigo (si es seguro y apropiado hacerlo).\n",
      "*   **Un resumen de tus datos:** Podrías proporcionarme un resumen de tus ventas de enero de 2023 (por ejemplo, \"En enero de 2023, mis ventas totales fueron de $X\").\n",
      "*   **Acceso a un sistema de gestión de ventas:** Si utilizas un software o plataforma específica para gestionar tus ventas, necesitaría acceso a esa plataforma (con los permisos adecuados y si estás dispuesto a compartir esa información).\n",
      "\n",
      "Una vez que tenga acceso a tus datos de ventas, podré calcular el total de tus ventas de enero de 2023.\n"
     ]
    }
   ],
   "source": [
    "import json\n",
    "GEMINI_API_KEY = os.getenv(\"GEMINI_API_KEY\")\n",
    "url = f\"https://generativelanguage.googleapis.com/v1beta/models/gemini-2.0-flash:generateContent?key={GEMINI_API_KEY}\"\n",
    "\n",
    "payload = {\n",
    "    \"contents\": [{\"parts\": [{\"text\": prompt}]}],\n",
    "}\n",
    "response = requests.post(url, json=payload)\n",
    "content = response.json()[\"candidates\"][0][\"content\"][\"parts\"][0][\"text\"]\n",
    "print(content)"
   ]
  },
  {
   "cell_type": "markdown",
   "id": "4fb86f7c",
   "metadata": {},
   "source": [
    "# OpenAI"
   ]
  },
  {
   "cell_type": "code",
   "execution_count": 10,
   "id": "43bd0348",
   "metadata": {},
   "outputs": [
    {
     "data": {
      "text/plain": [
       "'El salmón es un alimento muy saludable y una excelente fuente de ácidos grasos omega-3, proteínas, vitaminas y minerales. Generalmente, se recomienda consumir pescado graso como el salmón al menos dos veces por semana para obtener los beneficios de los omega-3, que pueden contribuir a la salud del corazón, el cerebro y las articulaciones.\\n\\nSin embargo, es importante considerar la variedad en la dieta y no depender únicamente de un solo tipo de pescado. Además, ten en cuenta la recomendación de verificar el contenido de mercurio y optar por versiones de salmón con niveles más bajos de contaminantes, como el salmón salvaje en comparación con el de piscifactoría.\\n\\nSi tienes preocupaciones específicas sobre tu dieta, es una buena idea consultar con un profesional de la salud o un nutricionista para obtener recomendaciones personalizadas.'"
      ]
     },
     "execution_count": 10,
     "metadata": {},
     "output_type": "execute_result"
    }
   ],
   "source": [
    "from openai import OpenAI\n",
    "OPENAI_API_KEY = os.getenv(\"OPENAI_API_KEY\")\n",
    "client = OpenAI()\n",
    "response = client.chat.completions.create(\n",
    "    model='gpt-4o',\n",
    "    messages=[{\"role\": \"user\", \"content\": prompt}]\n",
    ")\n",
    "\n",
    "response.choices[0].message.content"
   ]
  },
  {
   "cell_type": "code",
   "execution_count": 11,
   "id": "74fddeee",
   "metadata": {},
   "outputs": [
    {
     "name": "stdout",
     "output_type": "stream",
     "text": [
      "El salmón es un alimento muy saludable y una excelente fuente de ácidos grasos omega-3, proteínas, vitaminas y minerales. Generalmente, se recomienda consumir pescado graso como el salmón al menos dos veces por semana para obtener los beneficios de los omega-3, que pueden contribuir a la salud del corazón, el cerebro y las articulaciones.\n",
      "\n",
      "Sin embargo, es importante considerar la variedad en la dieta y no depender únicamente de un solo tipo de pescado. Además, ten en cuenta la recomendación de verificar el contenido de mercurio y optar por versiones de salmón con niveles más bajos de contaminantes, como el salmón salvaje en comparación con el de piscifactoría.\n",
      "\n",
      "Si tienes preocupaciones específicas sobre tu dieta, es una buena idea consultar con un profesional de la salud o un nutricionista para obtener recomendaciones personalizadas.\n"
     ]
    }
   ],
   "source": [
    "print(response.choices[0].message.content)"
   ]
  }
 ],
 "metadata": {
  "kernelspec": {
   "display_name": "llm-zoomcamp",
   "language": "python",
   "name": "python3"
  },
  "language_info": {
   "codemirror_mode": {
    "name": "ipython",
    "version": 3
   },
   "file_extension": ".py",
   "mimetype": "text/x-python",
   "name": "python",
   "nbconvert_exporter": "python",
   "pygments_lexer": "ipython3",
   "version": "3.11.8"
  }
 },
 "nbformat": 4,
 "nbformat_minor": 5
}
