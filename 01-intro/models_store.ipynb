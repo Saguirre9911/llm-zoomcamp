{
 "cells": [
  {
   "cell_type": "code",
   "execution_count": 4,
   "id": "9a6535db",
   "metadata": {},
   "outputs": [
    {
     "data": {
      "text/plain": [
       "True"
      ]
     },
     "execution_count": 4,
     "metadata": {},
     "output_type": "execute_result"
    }
   ],
   "source": [
    "from dotenv import load_dotenv\n",
    "import requests\n",
    "import os\n",
    "load_dotenv()\n",
    "\n",
    "#GEMINI_API_KEY, OPENAI_API_KEY FROM .env"
   ]
  },
  {
   "cell_type": "code",
   "execution_count": 8,
   "id": "03a16df1",
   "metadata": {},
   "outputs": [],
   "source": [
    "prompt = \"cuantas veces a la semana es bueno comer salmon??\""
   ]
  },
  {
   "cell_type": "markdown",
   "id": "2ae444f1",
   "metadata": {},
   "source": [
    "# Gemini"
   ]
  },
  {
   "cell_type": "code",
   "execution_count": 9,
   "id": "d7b3b674",
   "metadata": {},
   "outputs": [
    {
     "name": "stdout",
     "output_type": "stream",
     "text": [
      "La cantidad de salmón que es bueno comer a la semana depende de varios factores, incluyendo:\n",
      "\n",
      "*   **Tu salud individual:** Algunas personas con condiciones médicas específicas (como problemas de riñón o alergias) podrían necesitar limitar su consumo.\n",
      "*   **El tipo de salmón:** El salmón salvaje tiende a ser más bajo en contaminantes que el salmón de piscifactoría.\n",
      "*   **Recomendaciones generales de salud:**\n",
      "\n",
      "**Recomendaciones generales:**\n",
      "\n",
      "*   La mayoría de las organizaciones de salud recomiendan comer **pescado graso como el salmón 2-3 veces por semana**. Una porción se considera alrededor de 100-150 gramos (3.5-5 onzas).\n",
      "\n",
      "**Beneficios de comer salmón:**\n",
      "\n",
      "*   **Ácidos grasos omega-3:** El salmón es una excelente fuente de omega-3, que son importantes para la salud del corazón, el cerebro y la vista.\n",
      "*   **Proteínas:** Es una buena fuente de proteína de alta calidad.\n",
      "*   **Vitaminas y minerales:** Contiene vitaminas B, potasio y otros nutrientes importantes.\n",
      "\n",
      "**Consideraciones importantes:**\n",
      "\n",
      "*   **Mercurio:** El salmón generalmente tiene niveles más bajos de mercurio que otros pescados como el atún. Sin embargo, es importante variar tu consumo de pescado para minimizar la exposición al mercurio.\n",
      "*   **Contaminantes en el salmón de piscifactoría:** El salmón de piscifactoría puede contener niveles más altos de ciertos contaminantes (como PCBs) que el salmón salvaje. Si comes salmón de piscifactoría con frecuencia, busca opciones de fuentes sostenibles.\n",
      "*   **Preparación:** Prefiere métodos de cocción saludables como hornear, asar a la parrilla o cocinar al vapor en lugar de freír.\n",
      "\n",
      "**En resumen:**\n",
      "\n",
      "Comer salmón 2-3 veces por semana es generalmente considerado seguro y saludable para la mayoría de las personas. Si tienes alguna preocupación específica, consulta con tu médico o un nutricionista.\n"
     ]
    }
   ],
   "source": [
    "import json\n",
    "GEMINI_API_KEY = os.getenv(\"GEMINI_API_KEY\")\n",
    "url = f\"https://generativelanguage.googleapis.com/v1beta/models/gemini-2.0-flash:generateContent?key={GEMINI_API_KEY}\"\n",
    "\n",
    "payload = {\n",
    "    \"contents\": [{\"parts\": [{\"text\": prompt}]}],\n",
    "}\n",
    "response = requests.post(url, json=payload)\n",
    "content = response.json()[\"candidates\"][0][\"content\"][\"parts\"][0][\"text\"]\n",
    "print(content)"
   ]
  },
  {
   "cell_type": "markdown",
   "id": "4fb86f7c",
   "metadata": {},
   "source": [
    "# OpenAI"
   ]
  },
  {
   "cell_type": "code",
   "execution_count": 10,
   "id": "43bd0348",
   "metadata": {},
   "outputs": [
    {
     "data": {
      "text/plain": [
       "'El salmón es un alimento muy saludable y una excelente fuente de ácidos grasos omega-3, proteínas, vitaminas y minerales. Generalmente, se recomienda consumir pescado graso como el salmón al menos dos veces por semana para obtener los beneficios de los omega-3, que pueden contribuir a la salud del corazón, el cerebro y las articulaciones.\\n\\nSin embargo, es importante considerar la variedad en la dieta y no depender únicamente de un solo tipo de pescado. Además, ten en cuenta la recomendación de verificar el contenido de mercurio y optar por versiones de salmón con niveles más bajos de contaminantes, como el salmón salvaje en comparación con el de piscifactoría.\\n\\nSi tienes preocupaciones específicas sobre tu dieta, es una buena idea consultar con un profesional de la salud o un nutricionista para obtener recomendaciones personalizadas.'"
      ]
     },
     "execution_count": 10,
     "metadata": {},
     "output_type": "execute_result"
    }
   ],
   "source": [
    "from openai import OpenAI\n",
    "OPENAI_API_KEY = os.getenv(\"OPENAI_API_KEY\")\n",
    "client = OpenAI()\n",
    "response = client.chat.completions.create(\n",
    "    model='gpt-4o',\n",
    "    messages=[{\"role\": \"user\", \"content\": prompt}]\n",
    ")\n",
    "\n",
    "response.choices[0].message.content"
   ]
  },
  {
   "cell_type": "code",
   "execution_count": 11,
   "id": "74fddeee",
   "metadata": {},
   "outputs": [
    {
     "name": "stdout",
     "output_type": "stream",
     "text": [
      "El salmón es un alimento muy saludable y una excelente fuente de ácidos grasos omega-3, proteínas, vitaminas y minerales. Generalmente, se recomienda consumir pescado graso como el salmón al menos dos veces por semana para obtener los beneficios de los omega-3, que pueden contribuir a la salud del corazón, el cerebro y las articulaciones.\n",
      "\n",
      "Sin embargo, es importante considerar la variedad en la dieta y no depender únicamente de un solo tipo de pescado. Además, ten en cuenta la recomendación de verificar el contenido de mercurio y optar por versiones de salmón con niveles más bajos de contaminantes, como el salmón salvaje en comparación con el de piscifactoría.\n",
      "\n",
      "Si tienes preocupaciones específicas sobre tu dieta, es una buena idea consultar con un profesional de la salud o un nutricionista para obtener recomendaciones personalizadas.\n"
     ]
    }
   ],
   "source": [
    "print(response.choices[0].message.content)"
   ]
  }
 ],
 "metadata": {
  "kernelspec": {
   "display_name": ".venv",
   "language": "python",
   "name": "python3"
  },
  "language_info": {
   "codemirror_mode": {
    "name": "ipython",
    "version": 3
   },
   "file_extension": ".py",
   "mimetype": "text/x-python",
   "name": "python",
   "nbconvert_exporter": "python",
   "pygments_lexer": "ipython3",
   "version": "3.11.8"
  }
 },
 "nbformat": 4,
 "nbformat_minor": 5
}
