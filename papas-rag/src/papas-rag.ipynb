{
 "cells": [
  {
   "cell_type": "code",
   "execution_count": null,
   "id": "9cfdae23",
   "metadata": {},
   "outputs": [
    {
     "name": "stderr",
     "output_type": "stream",
     "text": [
      "/Users/santiago/Desktop/Ab-Inbev/upskilling/llm-zoomcamp/.venv/lib/python3.11/site-packages/tqdm/auto.py:21: TqdmWarning: IProgress not found. Please update jupyter and ipywidgets. See https://ipywidgets.readthedocs.io/en/stable/user_install.html\n",
      "  from .autonotebook import tqdm as notebook_tqdm\n"
     ]
    }
   ],
   "source": [
    "from sentence_transformers import SentenceTransformer\n",
    "import json\n",
    "import os\n",
    "import requests"
   ]
  },
  {
   "cell_type": "code",
   "execution_count": 2,
   "id": "1ca792e9",
   "metadata": {},
   "outputs": [
    {
     "data": {
      "text/plain": [
       "[{'id': 'a1b2c3d4-e5f6-7a8b-9c0d-e1f2a3b4c5d6',\n",
       "  'user_id': 'whatsapp:+573001234567',\n",
       "  'raw_text': 'Cita: Reunión con finanzas el 15/07/2025 a las 10:00 en la oficina central',\n",
       "  'title': 'Reunión con finanzas',\n",
       "  'datetime': '2025-07-15T10:00:00',\n",
       "  'notes': 'Oficina central'},\n",
       " {'id': 'b2c3d4e5-f6a7-8b9c-0d1e-f2a3b4c5d6e7',\n",
       "  'user_id': 'whatsapp:+573001234567',\n",
       "  'raw_text': 'Doctor: Control anual el 18/07/2025 a las 08:30 con el Dr. Ramírez, llevar resultados de laboratorio',\n",
       "  'title': 'Control anual con Dr. Ramírez',\n",
       "  'datetime': '2025-07-18T08:30:00',\n",
       "  'notes': 'Llevar resultados de laboratorio'},\n",
       " {'id': 'c3d4e5f6-a7b8-9c0d-1e2f-a3b4c5d6e7f8',\n",
       "  'user_id': 'whatsapp:+573001234567',\n",
       "  'raw_text': 'Cita: Entrega de proyecto el 20/07/2025 a las 17:00 vía Google Meet',\n",
       "  'title': 'Entrega de proyecto',\n",
       "  'datetime': '2025-07-20T17:00:00',\n",
       "  'notes': 'Vía Google Meet'},\n",
       " {'id': 'd4e5f6a7-b8c9-0d1e-2f3a-b4c5d6e7f8a9',\n",
       "  'user_id': 'whatsapp:+573001234567',\n",
       "  'raw_text': \"Película: Estreno de 'Inception' el 21/07/2025 a las 20:30 en Cine Colombia\",\n",
       "  'title': \"Estreno de 'Inception'\",\n",
       "  'datetime': '2025-07-21T20:30:00',\n",
       "  'notes': 'Cine Colombia'},\n",
       " {'id': 'e5f6a7b8-c9d0-1e2f-3a4b-c5d6e7f8a9b0',\n",
       "  'user_id': 'whatsapp:+573001234567',\n",
       "  'raw_text': 'Cita: Almuerzo con Ana el 22/07/2025 a las 13:00 en Restaurante El Patio',\n",
       "  'title': 'Almuerzo con Ana',\n",
       "  'datetime': '2025-07-22T13:00:00',\n",
       "  'notes': 'Restaurante El Patio'},\n",
       " {'id': 'f6a7b8c9-d0e1-2f3a-4b5c-d6e7f8a9b0c1',\n",
       "  'user_id': 'whatsapp:+573001234567',\n",
       "  'raw_text': 'Cita: Clase de yoga el 23/07/2025 a las 07:00 en el estudio ZenFlow',\n",
       "  'title': 'Clase de yoga',\n",
       "  'datetime': '2025-07-23T07:00:00',\n",
       "  'notes': 'Estudio ZenFlow'},\n",
       " {'id': 'a7b8c9d0-e1f2-3a4b-5c6d-e7f8a9b0c1d2',\n",
       "  'user_id': 'whatsapp:+573001234567',\n",
       "  'raw_text': 'Cita: Llamada con el proveedor el 24/07/2025 a las 11:00',\n",
       "  'title': 'Llamada con proveedor',\n",
       "  'datetime': '2025-07-24T11:00:00',\n",
       "  'notes': ''},\n",
       " {'id': 'b8c9d0e1-f2a3-4b5c-6d7e-f8a9b0c1d2e3',\n",
       "  'user_id': 'whatsapp:+573001234567',\n",
       "  'raw_text': 'Recordatorio: Renovar pasaporte antes del 25/07/2025',\n",
       "  'title': 'Renovar pasaporte',\n",
       "  'datetime': '2025-07-25T09:00:00',\n",
       "  'notes': ''},\n",
       " {'id': 'c9d0e1f2-a3b4-5c6d-7e8f-9a0b1c2d3e4f',\n",
       "  'user_id': 'whatsapp:+573001234567',\n",
       "  'raw_text': 'Cita: Taller de fotografía el 26/07/2025 a las 15:00 en Centro Cultural',\n",
       "  'title': 'Taller de fotografía',\n",
       "  'datetime': '2025-07-26T15:00:00',\n",
       "  'notes': 'Centro Cultural'},\n",
       " {'id': 'd0e1f2a3-b4c5-6d7e-8f9a-0b1c2d3e4f5a',\n",
       "  'user_id': 'whatsapp:+573001234567',\n",
       "  'raw_text': 'Cita: Sesión de coaching el 27/07/2025 a las 18:30 con Laura Pérez',\n",
       "  'title': 'Sesión de coaching',\n",
       "  'datetime': '2025-07-27T18:30:00',\n",
       "  'notes': 'Con Laura Pérez'}]"
      ]
     },
     "execution_count": 2,
     "metadata": {},
     "output_type": "execute_result"
    }
   ],
   "source": [
    "with open('../docs/documents.json', 'rt') as f_in:\n",
    "    docs_raw = json.load(f_in)\n",
    "docs_raw"
   ]
  },
  {
   "cell_type": "code",
   "execution_count": null,
   "id": "2b809dca",
   "metadata": {},
   "outputs": [],
   "source": [
    "model = SentenceTransformer(\"all-mpnet-base-v2\")"
   ]
  },
  {
   "cell_type": "code",
   "execution_count": null,
   "id": "37082a28",
   "metadata": {},
   "outputs": [],
   "source": [
    "def build_prompt(query, search_results):\n",
    "    prompt_template = \"\"\"\n",
    "Eres un asistente personal de calendario para la familia Aguirre Rojas. Responde a la CONSULTA usando únicamente la información de las CITAS proporcionadas.\n",
    "\n",
    "CONSULTA:\n",
    "{question}\n",
    "\n",
    "CITAS:\n",
    "{context}\n",
    "\n",
    "RESPUESTA:\n",
    "\"\"\".strip()\n",
    "\n",
    "    # Construimos el contexto listando cada cita con fecha, título y notas\n",
    "    context_lines = []\n",
    "    for doc in search_results:\n",
    "        line = f\"- {doc['datetime']}: {doc['title']}\"\n",
    "        if doc.get('notes'):\n",
    "            line += f\" ({doc['notes']})\"\n",
    "        context_lines.append(line)\n",
    "    context = \"\\n\".join(context_lines)\n",
    "\n",
    "    prompt = prompt_template.format(question=query, context=context)\n",
    "    return prompt\n"
   ]
  },
  {
   "cell_type": "code",
   "execution_count": null,
   "id": "8ac48dfc",
   "metadata": {},
   "outputs": [],
   "source": [
    "GEMINI_API_KEY = os.getenv(\"GEMINI_API_KEY\")\n",
    "url = f\"https://generativelanguage.googleapis.com/v1beta/models/gemini-2.0-flash:generateContent?key={GEMINI_API_KEY}\"\n",
    "\n",
    "payload = {\n",
    "    \"contents\": [{\"parts\": [{\"text\": prompt}]}],\n",
    "}\n",
    "response = requests.post(url, json=payload)\n",
    "content = response.json()[\"candidates\"][0][\"content\"][\"parts\"][0][\"text\"]\n",
    "print(content)"
   ]
  }
 ],
 "metadata": {
  "kernelspec": {
   "display_name": "llm-zoomcamp",
   "language": "python",
   "name": "python3"
  },
  "language_info": {
   "codemirror_mode": {
    "name": "ipython",
    "version": 3
   },
   "file_extension": ".py",
   "mimetype": "text/x-python",
   "name": "python",
   "nbconvert_exporter": "python",
   "pygments_lexer": "ipython3",
   "version": "3.11.8"
  }
 },
 "nbformat": 4,
 "nbformat_minor": 5
}
